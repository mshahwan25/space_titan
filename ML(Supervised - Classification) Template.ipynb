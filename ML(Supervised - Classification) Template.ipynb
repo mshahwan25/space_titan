{
 "cells": [
  {
   "cell_type": "markdown",
   "id": "a80bcbf6",
   "metadata": {},
   "source": [
    "# Libraries"
   ]
  },
  {
   "cell_type": "code",
   "execution_count": 1,
   "id": "3ca9fe0f",
   "metadata": {},
   "outputs": [],
   "source": [
    "#Data preprocessing\n",
    "import numpy as np\n",
    "import pandas as pd\n",
    "\n",
    "#Data visualization\n",
    "import matplotlib.pyplot as plt\n",
    "import seaborn as sb\n",
    "sb.set()\n",
    "\n",
    "#Machine learning\n",
    "from sklearn.feature_selection import f_regression\n",
    "from sklearn.metrics import confusion_matrix, accuracy_score\n",
    "from sklearn.preprocessing import StandardScaler\n",
    "from sklearn.model_selection import train_test_split\n",
    "from sklearn.linear_model import LogisticRegression\n",
    "from sklearn.neighbors import KNeighborsClassifier\n",
    "from sklearn.svm import SVC\n",
    "from sklearn.tree import DecisionTreeClassifier\n",
    "from sklearn.ensemble import RandomForestClassifier\n",
    "from sklearn.naive_bayes import GaussianNB"
   ]
  },
  {
   "cell_type": "markdown",
   "id": "dfb16c0f",
   "metadata": {},
   "source": [
    "# Data preprocessing and EDA"
   ]
  },
  {
   "cell_type": "code",
   "execution_count": 141,
   "id": "74136765",
   "metadata": {},
   "outputs": [
    {
     "data": {
      "text/html": [
       "<div>\n",
       "<style scoped>\n",
       "    .dataframe tbody tr th:only-of-type {\n",
       "        vertical-align: middle;\n",
       "    }\n",
       "\n",
       "    .dataframe tbody tr th {\n",
       "        vertical-align: top;\n",
       "    }\n",
       "\n",
       "    .dataframe thead th {\n",
       "        text-align: right;\n",
       "    }\n",
       "</style>\n",
       "<table border=\"1\" class=\"dataframe\">\n",
       "  <thead>\n",
       "    <tr style=\"text-align: right;\">\n",
       "      <th></th>\n",
       "      <th>Class</th>\n",
       "      <th>Sample code number</th>\n",
       "      <th>Clump Thickness</th>\n",
       "      <th>Uniformity of Cell Size</th>\n",
       "      <th>Uniformity of Cell Shape</th>\n",
       "      <th>Marginal Adhesion</th>\n",
       "      <th>Single Epithelial Cell Size</th>\n",
       "      <th>Bare Nuclei</th>\n",
       "      <th>Bland Chromatin</th>\n",
       "      <th>Normal Nucleoli</th>\n",
       "      <th>Mitoses</th>\n",
       "    </tr>\n",
       "  </thead>\n",
       "  <tbody>\n",
       "    <tr>\n",
       "      <th>0</th>\n",
       "      <td>2</td>\n",
       "      <td>1000025</td>\n",
       "      <td>5</td>\n",
       "      <td>1</td>\n",
       "      <td>1</td>\n",
       "      <td>1</td>\n",
       "      <td>2</td>\n",
       "      <td>1</td>\n",
       "      <td>3</td>\n",
       "      <td>1</td>\n",
       "      <td>1</td>\n",
       "    </tr>\n",
       "    <tr>\n",
       "      <th>1</th>\n",
       "      <td>2</td>\n",
       "      <td>1002945</td>\n",
       "      <td>5</td>\n",
       "      <td>4</td>\n",
       "      <td>4</td>\n",
       "      <td>5</td>\n",
       "      <td>7</td>\n",
       "      <td>10</td>\n",
       "      <td>3</td>\n",
       "      <td>2</td>\n",
       "      <td>1</td>\n",
       "    </tr>\n",
       "  </tbody>\n",
       "</table>\n",
       "</div>"
      ],
      "text/plain": [
       "   Class  Sample code number  Clump Thickness  Uniformity of Cell Size  \\\n",
       "0      2             1000025                5                        1   \n",
       "1      2             1002945                5                        4   \n",
       "\n",
       "   Uniformity of Cell Shape  Marginal Adhesion  Single Epithelial Cell Size  \\\n",
       "0                         1                  1                            2   \n",
       "1                         4                  5                            7   \n",
       "\n",
       "   Bare Nuclei  Bland Chromatin  Normal Nucleoli  Mitoses  \n",
       "0            1                3                1        1  \n",
       "1           10                3                2        1  "
      ]
     },
     "execution_count": 141,
     "metadata": {},
     "output_type": "execute_result"
    }
   ],
   "source": [
    "df_raw = pd.read_csv('Data.csv')\n",
    "df_raw.head(2)"
   ]
  },
  {
   "cell_type": "code",
   "execution_count": 142,
   "id": "793255af",
   "metadata": {},
   "outputs": [
    {
     "name": "stdout",
     "output_type": "stream",
     "text": [
      "<class 'pandas.core.frame.DataFrame'>\n",
      "RangeIndex: 683 entries, 0 to 682\n",
      "Data columns (total 11 columns):\n",
      " #   Column                       Non-Null Count  Dtype\n",
      "---  ------                       --------------  -----\n",
      " 0   Class                        683 non-null    int64\n",
      " 1   Sample code number           683 non-null    int64\n",
      " 2   Clump Thickness              683 non-null    int64\n",
      " 3   Uniformity of Cell Size      683 non-null    int64\n",
      " 4   Uniformity of Cell Shape     683 non-null    int64\n",
      " 5   Marginal Adhesion            683 non-null    int64\n",
      " 6   Single Epithelial Cell Size  683 non-null    int64\n",
      " 7   Bare Nuclei                  683 non-null    int64\n",
      " 8   Bland Chromatin              683 non-null    int64\n",
      " 9   Normal Nucleoli              683 non-null    int64\n",
      " 10  Mitoses                      683 non-null    int64\n",
      "dtypes: int64(11)\n",
      "memory usage: 58.8 KB\n"
     ]
    }
   ],
   "source": [
    "df_raw.info()"
   ]
  },
  {
   "cell_type": "code",
   "execution_count": 143,
   "id": "a6995041",
   "metadata": {},
   "outputs": [
    {
     "data": {
      "text/html": [
       "<div>\n",
       "<style scoped>\n",
       "    .dataframe tbody tr th:only-of-type {\n",
       "        vertical-align: middle;\n",
       "    }\n",
       "\n",
       "    .dataframe tbody tr th {\n",
       "        vertical-align: top;\n",
       "    }\n",
       "\n",
       "    .dataframe thead th {\n",
       "        text-align: right;\n",
       "    }\n",
       "</style>\n",
       "<table border=\"1\" class=\"dataframe\">\n",
       "  <thead>\n",
       "    <tr style=\"text-align: right;\">\n",
       "      <th></th>\n",
       "      <th>Class</th>\n",
       "      <th>Sample code number</th>\n",
       "      <th>Clump Thickness</th>\n",
       "      <th>Uniformity of Cell Size</th>\n",
       "      <th>Uniformity of Cell Shape</th>\n",
       "      <th>Marginal Adhesion</th>\n",
       "      <th>Single Epithelial Cell Size</th>\n",
       "      <th>Bare Nuclei</th>\n",
       "      <th>Bland Chromatin</th>\n",
       "      <th>Normal Nucleoli</th>\n",
       "      <th>Mitoses</th>\n",
       "    </tr>\n",
       "  </thead>\n",
       "  <tbody>\n",
       "    <tr>\n",
       "      <th>count</th>\n",
       "      <td>683.000000</td>\n",
       "      <td>6.830000e+02</td>\n",
       "      <td>683.000000</td>\n",
       "      <td>683.000000</td>\n",
       "      <td>683.000000</td>\n",
       "      <td>683.000000</td>\n",
       "      <td>683.000000</td>\n",
       "      <td>683.000000</td>\n",
       "      <td>683.000000</td>\n",
       "      <td>683.000000</td>\n",
       "      <td>683.000000</td>\n",
       "    </tr>\n",
       "    <tr>\n",
       "      <th>mean</th>\n",
       "      <td>2.699854</td>\n",
       "      <td>1.076720e+06</td>\n",
       "      <td>4.442167</td>\n",
       "      <td>3.150805</td>\n",
       "      <td>3.215227</td>\n",
       "      <td>2.830161</td>\n",
       "      <td>3.234261</td>\n",
       "      <td>3.544656</td>\n",
       "      <td>3.445095</td>\n",
       "      <td>2.869693</td>\n",
       "      <td>1.603221</td>\n",
       "    </tr>\n",
       "    <tr>\n",
       "      <th>std</th>\n",
       "      <td>0.954592</td>\n",
       "      <td>6.206440e+05</td>\n",
       "      <td>2.820761</td>\n",
       "      <td>3.065145</td>\n",
       "      <td>2.988581</td>\n",
       "      <td>2.864562</td>\n",
       "      <td>2.223085</td>\n",
       "      <td>3.643857</td>\n",
       "      <td>2.449697</td>\n",
       "      <td>3.052666</td>\n",
       "      <td>1.732674</td>\n",
       "    </tr>\n",
       "    <tr>\n",
       "      <th>min</th>\n",
       "      <td>2.000000</td>\n",
       "      <td>6.337500e+04</td>\n",
       "      <td>1.000000</td>\n",
       "      <td>1.000000</td>\n",
       "      <td>1.000000</td>\n",
       "      <td>1.000000</td>\n",
       "      <td>1.000000</td>\n",
       "      <td>1.000000</td>\n",
       "      <td>1.000000</td>\n",
       "      <td>1.000000</td>\n",
       "      <td>1.000000</td>\n",
       "    </tr>\n",
       "    <tr>\n",
       "      <th>25%</th>\n",
       "      <td>2.000000</td>\n",
       "      <td>8.776170e+05</td>\n",
       "      <td>2.000000</td>\n",
       "      <td>1.000000</td>\n",
       "      <td>1.000000</td>\n",
       "      <td>1.000000</td>\n",
       "      <td>2.000000</td>\n",
       "      <td>1.000000</td>\n",
       "      <td>2.000000</td>\n",
       "      <td>1.000000</td>\n",
       "      <td>1.000000</td>\n",
       "    </tr>\n",
       "    <tr>\n",
       "      <th>50%</th>\n",
       "      <td>2.000000</td>\n",
       "      <td>1.171795e+06</td>\n",
       "      <td>4.000000</td>\n",
       "      <td>1.000000</td>\n",
       "      <td>1.000000</td>\n",
       "      <td>1.000000</td>\n",
       "      <td>2.000000</td>\n",
       "      <td>1.000000</td>\n",
       "      <td>3.000000</td>\n",
       "      <td>1.000000</td>\n",
       "      <td>1.000000</td>\n",
       "    </tr>\n",
       "    <tr>\n",
       "      <th>75%</th>\n",
       "      <td>4.000000</td>\n",
       "      <td>1.238705e+06</td>\n",
       "      <td>6.000000</td>\n",
       "      <td>5.000000</td>\n",
       "      <td>5.000000</td>\n",
       "      <td>4.000000</td>\n",
       "      <td>4.000000</td>\n",
       "      <td>6.000000</td>\n",
       "      <td>5.000000</td>\n",
       "      <td>4.000000</td>\n",
       "      <td>1.000000</td>\n",
       "    </tr>\n",
       "    <tr>\n",
       "      <th>max</th>\n",
       "      <td>4.000000</td>\n",
       "      <td>1.345435e+07</td>\n",
       "      <td>10.000000</td>\n",
       "      <td>10.000000</td>\n",
       "      <td>10.000000</td>\n",
       "      <td>10.000000</td>\n",
       "      <td>10.000000</td>\n",
       "      <td>10.000000</td>\n",
       "      <td>10.000000</td>\n",
       "      <td>10.000000</td>\n",
       "      <td>10.000000</td>\n",
       "    </tr>\n",
       "  </tbody>\n",
       "</table>\n",
       "</div>"
      ],
      "text/plain": [
       "            Class  Sample code number  Clump Thickness  \\\n",
       "count  683.000000        6.830000e+02       683.000000   \n",
       "mean     2.699854        1.076720e+06         4.442167   \n",
       "std      0.954592        6.206440e+05         2.820761   \n",
       "min      2.000000        6.337500e+04         1.000000   \n",
       "25%      2.000000        8.776170e+05         2.000000   \n",
       "50%      2.000000        1.171795e+06         4.000000   \n",
       "75%      4.000000        1.238705e+06         6.000000   \n",
       "max      4.000000        1.345435e+07        10.000000   \n",
       "\n",
       "       Uniformity of Cell Size  Uniformity of Cell Shape  Marginal Adhesion  \\\n",
       "count               683.000000                683.000000         683.000000   \n",
       "mean                  3.150805                  3.215227           2.830161   \n",
       "std                   3.065145                  2.988581           2.864562   \n",
       "min                   1.000000                  1.000000           1.000000   \n",
       "25%                   1.000000                  1.000000           1.000000   \n",
       "50%                   1.000000                  1.000000           1.000000   \n",
       "75%                   5.000000                  5.000000           4.000000   \n",
       "max                  10.000000                 10.000000          10.000000   \n",
       "\n",
       "       Single Epithelial Cell Size  Bare Nuclei  Bland Chromatin  \\\n",
       "count                   683.000000   683.000000       683.000000   \n",
       "mean                      3.234261     3.544656         3.445095   \n",
       "std                       2.223085     3.643857         2.449697   \n",
       "min                       1.000000     1.000000         1.000000   \n",
       "25%                       2.000000     1.000000         2.000000   \n",
       "50%                       2.000000     1.000000         3.000000   \n",
       "75%                       4.000000     6.000000         5.000000   \n",
       "max                      10.000000    10.000000        10.000000   \n",
       "\n",
       "       Normal Nucleoli     Mitoses  \n",
       "count       683.000000  683.000000  \n",
       "mean          2.869693    1.603221  \n",
       "std           3.052666    1.732674  \n",
       "min           1.000000    1.000000  \n",
       "25%           1.000000    1.000000  \n",
       "50%           1.000000    1.000000  \n",
       "75%           4.000000    1.000000  \n",
       "max          10.000000   10.000000  "
      ]
     },
     "execution_count": 143,
     "metadata": {},
     "output_type": "execute_result"
    }
   ],
   "source": [
    "df_raw.describe(include='all')"
   ]
  },
  {
   "cell_type": "code",
   "execution_count": 144,
   "id": "8d30fe43",
   "metadata": {},
   "outputs": [],
   "source": [
    "df = df_raw.copy()\n",
    "col = df.columns.values"
   ]
  },
  {
   "cell_type": "code",
   "execution_count": 145,
   "id": "12d0341d",
   "metadata": {
    "scrolled": false
   },
   "outputs": [
    {
     "data": {
      "image/png": "[encoded data removed]",
      "text/plain": [
       "<Figure size 1440x3600 with 30 Axes>"
      ]
     },
     "metadata": {},
     "output_type": "display_data"
    }
   ],
   "source": [
    "#visualizing and transforming features\n",
    "fig,ax = plt.subplots(nrows=(len(col)-1),ncols=3,figsize=(20,50));\n",
    "for i in range (1,len(col),1):\n",
    "    sb.histplot(data=df.iloc[:,i],kde=True,ax=ax[i-1,0])\n",
    "    sb.scatterplot(data=df,x=col[i],y=col[0],ax=ax[i-1,1],color='g');\n",
    "\n",
    "#drawing the final features transformations\n",
    "#ax[0,2].scatter(np.log(df['CRIM']),df['MEDV'],color='r');"
   ]
  },
  {
   "cell_type": "code",
   "execution_count": 146,
   "id": "baea564c",
   "metadata": {},
   "outputs": [],
   "source": [
    "#trying some feature transformations\n",
    "\n",
    "#fig,f = plt.subplots(nrows=1,ncols=2,figsize=(10,5));\n",
    "#f[0].scatter(df['V'],df['PE'],color='g');\n",
    "#f[1].scatter(1/(df['V']),df['PE'],color='r');"
   ]
  },
  {
   "cell_type": "code",
   "execution_count": 147,
   "id": "3e89ecc1",
   "metadata": {},
   "outputs": [],
   "source": [
    "Y = df[col[0:1]]\n",
    "X = df[col[1:]]"
   ]
  },
  {
   "cell_type": "markdown",
   "id": "0872e5de",
   "metadata": {},
   "source": [
    "# Splitting data"
   ]
  },
  {
   "cell_type": "code",
   "execution_count": 148,
   "id": "f7531bea",
   "metadata": {},
   "outputs": [],
   "source": [
    "#important to set the random state\n",
    "x_tr, x_ts = train_test_split(X,train_size=0.9,test_size=0.1,random_state=0)\n",
    "y_tr, y_ts = train_test_split(Y,train_size=0.9,test_size=0.1,random_state=0)"
   ]
  },
  {
   "cell_type": "code",
   "execution_count": 149,
   "id": "77207db4",
   "metadata": {},
   "outputs": [],
   "source": [
    "sc_x = StandardScaler()\n",
    "x_tr_sc = sc_x.fit_transform(x_tr)\n",
    "x_ts_sc = sc_x.transform(x_ts)"
   ]
  },
  {
   "cell_type": "markdown",
   "id": "e5c9051e",
   "metadata": {},
   "source": [
    "# Multicolinearity & F regression for all features"
   ]
  },
  {
   "cell_type": "code",
   "execution_count": 150,
   "id": "00890f4a",
   "metadata": {},
   "outputs": [
    {
     "data": {
      "text/html": [
       "<div>\n",
       "<style scoped>\n",
       "    .dataframe tbody tr th:only-of-type {\n",
       "        vertical-align: middle;\n",
       "    }\n",
       "\n",
       "    .dataframe tbody tr th {\n",
       "        vertical-align: top;\n",
       "    }\n",
       "\n",
       "    .dataframe thead th {\n",
       "        text-align: right;\n",
       "    }\n",
       "</style>\n",
       "<table border=\"1\" class=\"dataframe\">\n",
       "  <thead>\n",
       "    <tr style=\"text-align: right;\">\n",
       "      <th></th>\n",
       "      <th>Feature</th>\n",
       "      <th>P-value</th>\n",
       "      <th>P-value2</th>\n",
       "    </tr>\n",
       "  </thead>\n",
       "  <tbody>\n",
       "    <tr>\n",
       "      <th>1</th>\n",
       "      <td>Clump Thickness</td>\n",
       "      <td>7.676481e-96</td>\n",
       "      <td>0.0000</td>\n",
       "    </tr>\n",
       "    <tr>\n",
       "      <th>2</th>\n",
       "      <td>Uniformity of Cell Size</td>\n",
       "      <td>4.142546e-148</td>\n",
       "      <td>0.0000</td>\n",
       "    </tr>\n",
       "    <tr>\n",
       "      <th>3</th>\n",
       "      <td>Uniformity of Cell Shape</td>\n",
       "      <td>5.414726e-147</td>\n",
       "      <td>0.0000</td>\n",
       "    </tr>\n",
       "    <tr>\n",
       "      <th>4</th>\n",
       "      <td>Marginal Adhesion</td>\n",
       "      <td>1.524526e-93</td>\n",
       "      <td>0.0000</td>\n",
       "    </tr>\n",
       "    <tr>\n",
       "      <th>5</th>\n",
       "      <td>Single Epithelial Cell Size</td>\n",
       "      <td>1.509064e-88</td>\n",
       "      <td>0.0000</td>\n",
       "    </tr>\n",
       "    <tr>\n",
       "      <th>6</th>\n",
       "      <td>Bare Nuclei</td>\n",
       "      <td>1.333950e-149</td>\n",
       "      <td>0.0000</td>\n",
       "    </tr>\n",
       "    <tr>\n",
       "      <th>7</th>\n",
       "      <td>Bland Chromatin</td>\n",
       "      <td>4.077232e-113</td>\n",
       "      <td>0.0000</td>\n",
       "    </tr>\n",
       "    <tr>\n",
       "      <th>8</th>\n",
       "      <td>Normal Nucleoli</td>\n",
       "      <td>1.573842e-100</td>\n",
       "      <td>0.0000</td>\n",
       "    </tr>\n",
       "    <tr>\n",
       "      <th>9</th>\n",
       "      <td>Mitoses</td>\n",
       "      <td>1.249211e-27</td>\n",
       "      <td>0.0000</td>\n",
       "    </tr>\n",
       "    <tr>\n",
       "      <th>0</th>\n",
       "      <td>Sample code number</td>\n",
       "      <td>2.671318e-02</td>\n",
       "      <td>0.0267</td>\n",
       "    </tr>\n",
       "  </tbody>\n",
       "</table>\n",
       "</div>"
      ],
      "text/plain": [
       "                       Feature        P-value  P-value2\n",
       "1              Clump Thickness   7.676481e-96    0.0000\n",
       "2      Uniformity of Cell Size  4.142546e-148    0.0000\n",
       "3     Uniformity of Cell Shape  5.414726e-147    0.0000\n",
       "4            Marginal Adhesion   1.524526e-93    0.0000\n",
       "5  Single Epithelial Cell Size   1.509064e-88    0.0000\n",
       "6                  Bare Nuclei  1.333950e-149    0.0000\n",
       "7              Bland Chromatin  4.077232e-113    0.0000\n",
       "8              Normal Nucleoli  1.573842e-100    0.0000\n",
       "9                      Mitoses   1.249211e-27    0.0000\n",
       "0           Sample code number   2.671318e-02    0.0267"
      ]
     },
     "execution_count": 150,
     "metadata": {},
     "output_type": "execute_result"
    }
   ],
   "source": [
    "df_features = pd.DataFrame()\n",
    "df_features['Feature'] = list(x_tr.columns)\n",
    "df_features['P-value'] = f_regression(x_tr,y_tr.values.ravel())[1]\n",
    "df_features['P-value2'] = df_features['P-value'].round(4)\n",
    "df_features.sort_values(by='P-value2')"
   ]
  },
  {
   "cell_type": "markdown",
   "id": "04a5162f",
   "metadata": {},
   "source": [
    "**the feautre (Sample code number) has highest p-value which indicates that we can accept the null that such feature has low correlation with the predicted variable** </br>\n",
    "**It seems logic, that feature (Sample code number) is an ID and doesn't reflect any of sample characteristics**"
   ]
  },
  {
   "cell_type": "code",
   "execution_count": 151,
   "id": "4235e1d4",
   "metadata": {},
   "outputs": [],
   "source": [
    "x_tr.columns\n",
    "col_adj = ['Clump Thickness', 'Uniformity of Cell Size',\n",
    "       'Uniformity of Cell Shape', 'Marginal Adhesion',\n",
    "       'Single Epithelial Cell Size', 'Bare Nuclei', 'Bland Chromatin',\n",
    "       'Normal Nucleoli', 'Mitoses']\n",
    "x_tr_adj = x_tr[col_adj]\n",
    "m = pd.DataFrame(x_tr_sc,columns=col[1:])\n",
    "x_tr_sc_adj = m[col_adj]\n",
    "\n",
    "x_ts_adj = x_ts[col_adj]\n",
    "m = pd.DataFrame(x_ts_sc,columns=col[1:])\n",
    "x_ts_sc_adj = m[col_adj]"
   ]
  },
  {
   "cell_type": "markdown",
   "id": "529a1811",
   "metadata": {},
   "source": [
    "# Modelling and testing"
   ]
  },
  {
   "cell_type": "code",
   "execution_count": 152,
   "id": "67480faf",
   "metadata": {},
   "outputs": [],
   "source": [
    "models_summary = pd.DataFrame(columns=['Model','Type','Scaled','Score'])"
   ]
  },
  {
   "cell_type": "markdown",
   "id": "e3293ffe",
   "metadata": {},
   "source": [
    "## Logistic regression"
   ]
  },
  {
   "cell_type": "markdown",
   "id": "5520c63b",
   "metadata": {},
   "source": [
    "### Unscaled"
   ]
  },
  {
   "cell_type": "code",
   "execution_count": 153,
   "id": "24e9b34a",
   "metadata": {},
   "outputs": [
    {
     "data": {
      "text/plain": [
       "LogisticRegression()"
      ]
     },
     "execution_count": 153,
     "metadata": {},
     "output_type": "execute_result"
    }
   ],
   "source": [
    "ml_log_un = LogisticRegression()\n",
    "ml_log_un.fit(x_tr,y_tr.values.ravel())"
   ]
  },
  {
   "cell_type": "code",
   "execution_count": 154,
   "id": "f94d9a0b",
   "metadata": {},
   "outputs": [],
   "source": [
    "y_pr_ml_log_un = ml_log_un.predict(x_ts)"
   ]
  },
  {
   "cell_type": "code",
   "execution_count": 155,
   "id": "526bdd1d",
   "metadata": {},
   "outputs": [
    {
     "name": "stdout",
     "output_type": "stream",
     "text": [
      "[[46  0]\n",
      " [23  0]]\n"
     ]
    },
    {
     "data": {
      "text/plain": [
       "0.6666666666666666"
      ]
     },
     "execution_count": 155,
     "metadata": {},
     "output_type": "execute_result"
    }
   ],
   "source": [
    "print (confusion_matrix(y_ts,y_pr_ml_log_un))\n",
    "accuracy_score(y_ts,y_pr_ml_log_un)"
   ]
  },
  {
   "cell_type": "code",
   "execution_count": 156,
   "id": "aa44c48f",
   "metadata": {},
   "outputs": [],
   "source": [
    "models_summary = models_summary.append({'Model':'Log','Type':'General','Scaled':'No','Score':accuracy_score(y_ts,y_pr_ml_log_un)},ignore_index=True)"
   ]
  },
  {
   "cell_type": "markdown",
   "id": "af823bbc",
   "metadata": {},
   "source": [
    "### Scaled"
   ]
  },
  {
   "cell_type": "code",
   "execution_count": 157,
   "id": "d1dd2b93",
   "metadata": {},
   "outputs": [
    {
     "data": {
      "text/plain": [
       "LogisticRegression()"
      ]
     },
     "execution_count": 157,
     "metadata": {},
     "output_type": "execute_result"
    }
   ],
   "source": [
    "ml_log_sc = LogisticRegression()\n",
    "ml_log_sc.fit(x_tr_sc,y_tr.values.ravel())"
   ]
  },
  {
   "cell_type": "code",
   "execution_count": 158,
   "id": "1ff95974",
   "metadata": {},
   "outputs": [],
   "source": [
    "y_pr_ml_log_sc = ml_log_sc.predict(x_ts_sc)"
   ]
  },
  {
   "cell_type": "code",
   "execution_count": 159,
   "id": "97f0a44c",
   "metadata": {},
   "outputs": [
    {
     "name": "stdout",
     "output_type": "stream",
     "text": [
      "[[45  1]\n",
      " [ 0 23]]\n"
     ]
    },
    {
     "data": {
      "text/plain": [
       "0.9855072463768116"
      ]
     },
     "execution_count": 159,
     "metadata": {},
     "output_type": "execute_result"
    }
   ],
   "source": [
    "print (confusion_matrix(y_ts,y_pr_ml_log_sc))\n",
    "accuracy_score(y_ts,y_pr_ml_log_sc)"
   ]
  },
  {
   "cell_type": "code",
   "execution_count": 160,
   "id": "8fe1b362",
   "metadata": {},
   "outputs": [],
   "source": [
    "models_summary = models_summary.append({'Model':'Log','Type':'General','Scaled':'Yes','Score':accuracy_score(y_ts,y_pr_ml_log_sc)},ignore_index=True)"
   ]
  },
  {
   "cell_type": "markdown",
   "id": "53396464",
   "metadata": {},
   "source": [
    "### Adjusted columns"
   ]
  },
  {
   "cell_type": "code",
   "execution_count": 161,
   "id": "ba458a3d",
   "metadata": {},
   "outputs": [
    {
     "data": {
      "text/plain": [
       "LogisticRegression()"
      ]
     },
     "execution_count": 161,
     "metadata": {},
     "output_type": "execute_result"
    }
   ],
   "source": [
    "ml_log_un_adj = LogisticRegression()\n",
    "ml_log_un_adj.fit(x_tr_adj,y_tr.values.ravel())"
   ]
  },
  {
   "cell_type": "code",
   "execution_count": 162,
   "id": "978b65b5",
   "metadata": {},
   "outputs": [],
   "source": [
    "y_pr_ml_log_un_adj = ml_log_un_adj.predict(x_ts_adj)"
   ]
  },
  {
   "cell_type": "code",
   "execution_count": 163,
   "id": "93ab1c3d",
   "metadata": {},
   "outputs": [
    {
     "name": "stdout",
     "output_type": "stream",
     "text": [
      "[[45  1]\n",
      " [ 0 23]]\n"
     ]
    },
    {
     "data": {
      "text/plain": [
       "0.9855072463768116"
      ]
     },
     "execution_count": 163,
     "metadata": {},
     "output_type": "execute_result"
    }
   ],
   "source": [
    "print (confusion_matrix(y_ts,y_pr_ml_log_un_adj))\n",
    "accuracy_score(y_ts,y_pr_ml_log_un_adj)"
   ]
  },
  {
   "cell_type": "code",
   "execution_count": 164,
   "id": "3c31807e",
   "metadata": {},
   "outputs": [
    {
     "data": {
      "text/plain": [
       "LogisticRegression()"
      ]
     },
     "execution_count": 164,
     "metadata": {},
     "output_type": "execute_result"
    }
   ],
   "source": [
    "ml_log_sc_adj = LogisticRegression()\n",
    "ml_log_sc_adj.fit(x_tr_sc_adj,y_tr.values.ravel())"
   ]
  },
  {
   "cell_type": "code",
   "execution_count": 165,
   "id": "a77a74a6",
   "metadata": {},
   "outputs": [],
   "source": [
    "y_pr_ml_log_sc_adj = ml_log_sc_adj.predict(x_ts_adj)"
   ]
  },
  {
   "cell_type": "code",
   "execution_count": 166,
   "id": "19d1a4fb",
   "metadata": {},
   "outputs": [
    {
     "name": "stdout",
     "output_type": "stream",
     "text": [
      "[[ 0 46]\n",
      " [ 0 23]]\n"
     ]
    },
    {
     "data": {
      "text/plain": [
       "0.3333333333333333"
      ]
     },
     "execution_count": 166,
     "metadata": {},
     "output_type": "execute_result"
    }
   ],
   "source": [
    "print (confusion_matrix(y_ts,y_pr_ml_log_sc_adj))\n",
    "accuracy_score(y_ts,y_pr_ml_log_sc_adj)"
   ]
  },
  {
   "cell_type": "code",
   "execution_count": 167,
   "id": "53daaf5e",
   "metadata": {},
   "outputs": [],
   "source": [
    "models_summary = models_summary.append({'Model':'Log','Type':'Adjusted','Scaled':'No','Score':accuracy_score(y_ts,y_pr_ml_log_un_adj)},ignore_index=True)"
   ]
  },
  {
   "cell_type": "code",
   "execution_count": 168,
   "id": "b5ffe725",
   "metadata": {},
   "outputs": [],
   "source": [
    "models_summary = models_summary.append({'Model':'Log','Type':'Adjusted','Scaled':'Yes','Score':accuracy_score(y_ts,y_pr_ml_log_sc_adj)},ignore_index=True)"
   ]
  },
  {
   "cell_type": "markdown",
   "id": "0a7d80c9",
   "metadata": {},
   "source": [
    "## K-NN"
   ]
  },
  {
   "cell_type": "markdown",
   "id": "6de5e987",
   "metadata": {},
   "source": [
    "### Unscaled"
   ]
  },
  {
   "cell_type": "code",
   "execution_count": 169,
   "id": "c0c0ceac",
   "metadata": {},
   "outputs": [
    {
     "data": {
      "text/plain": [
       "KNeighborsClassifier()"
      ]
     },
     "execution_count": 169,
     "metadata": {},
     "output_type": "execute_result"
    }
   ],
   "source": [
    "ml_kn_un = KNeighborsClassifier()\n",
    "ml_kn_un.fit(x_tr,y_tr.values.ravel())"
   ]
  },
  {
   "cell_type": "code",
   "execution_count": 170,
   "id": "6dc9d78d",
   "metadata": {},
   "outputs": [],
   "source": [
    "y_pr_ml_kn_un = ml_kn_un.predict(x_ts)"
   ]
  },
  {
   "cell_type": "code",
   "execution_count": 171,
   "id": "37dbdfd2",
   "metadata": {},
   "outputs": [
    {
     "data": {
      "text/plain": [
       "array([[35, 11],\n",
       "       [16,  7]], dtype=int64)"
      ]
     },
     "execution_count": 171,
     "metadata": {},
     "output_type": "execute_result"
    }
   ],
   "source": [
    "confusion_matrix(y_ts,y_pr_ml_kn_un)"
   ]
  },
  {
   "cell_type": "code",
   "execution_count": 172,
   "id": "c237b87b",
   "metadata": {},
   "outputs": [
    {
     "data": {
      "text/plain": [
       "0.6086956521739131"
      ]
     },
     "execution_count": 172,
     "metadata": {},
     "output_type": "execute_result"
    }
   ],
   "source": [
    "accuracy_score(y_ts,y_pr_ml_kn_un)"
   ]
  },
  {
   "cell_type": "code",
   "execution_count": 173,
   "id": "7ed46d0f",
   "metadata": {},
   "outputs": [],
   "source": [
    "models_summary = models_summary.append({'Model':'KNN','Type':'General','Scaled':'No','Score':accuracy_score(y_ts,y_pr_ml_kn_un)},ignore_index=True)"
   ]
  },
  {
   "cell_type": "markdown",
   "id": "759d4486",
   "metadata": {},
   "source": [
    "### Scaled"
   ]
  },
  {
   "cell_type": "code",
   "execution_count": 174,
   "id": "ac51aceb",
   "metadata": {},
   "outputs": [
    {
     "data": {
      "text/plain": [
       "KNeighborsClassifier()"
      ]
     },
     "execution_count": 174,
     "metadata": {},
     "output_type": "execute_result"
    }
   ],
   "source": [
    "ml_kn_sc = KNeighborsClassifier()\n",
    "ml_kn_sc.fit(x_tr_sc,y_tr.values.ravel())"
   ]
  },
  {
   "cell_type": "code",
   "execution_count": 175,
   "id": "2725bbbd",
   "metadata": {},
   "outputs": [],
   "source": [
    "y_pr_ml_kn_sc = ml_kn_sc.predict(x_ts_sc)"
   ]
  },
  {
   "cell_type": "code",
   "execution_count": 176,
   "id": "d3ce0673",
   "metadata": {},
   "outputs": [
    {
     "data": {
      "text/plain": [
       "array([[45,  1],\n",
       "       [ 0, 23]], dtype=int64)"
      ]
     },
     "execution_count": 176,
     "metadata": {},
     "output_type": "execute_result"
    }
   ],
   "source": [
    "confusion_matrix(y_ts,y_pr_ml_kn_sc)"
   ]
  },
  {
   "cell_type": "code",
   "execution_count": 177,
   "id": "425e879e",
   "metadata": {},
   "outputs": [
    {
     "data": {
      "text/plain": [
       "0.9855072463768116"
      ]
     },
     "execution_count": 177,
     "metadata": {},
     "output_type": "execute_result"
    }
   ],
   "source": [
    "accuracy_score(y_ts,y_pr_ml_kn_sc)"
   ]
  },
  {
   "cell_type": "code",
   "execution_count": 178,
   "id": "ecb529fa",
   "metadata": {},
   "outputs": [],
   "source": [
    "models_summary = models_summary.append({'Model':'KNN','Type':'General','Scaled':'Yes','Score':accuracy_score(y_ts,y_pr_ml_kn_sc)},ignore_index=True)"
   ]
  },
  {
   "cell_type": "markdown",
   "id": "986657f4",
   "metadata": {},
   "source": [
    "### Adjusted columns"
   ]
  },
  {
   "cell_type": "code",
   "execution_count": 179,
   "id": "74748b63",
   "metadata": {},
   "outputs": [
    {
     "data": {
      "text/plain": [
       "LogisticRegression()"
      ]
     },
     "execution_count": 179,
     "metadata": {},
     "output_type": "execute_result"
    }
   ],
   "source": [
    "ml_kn_un_adj = LogisticRegression()\n",
    "ml_kn_un_adj.fit(x_tr_adj,y_tr.values.ravel())"
   ]
  },
  {
   "cell_type": "code",
   "execution_count": 180,
   "id": "d7982434",
   "metadata": {},
   "outputs": [],
   "source": [
    "y_pr_ml_kn_un_adj = ml_kn_un_adj.predict(x_ts_adj)"
   ]
  },
  {
   "cell_type": "code",
   "execution_count": 181,
   "id": "98612f14",
   "metadata": {},
   "outputs": [
    {
     "name": "stdout",
     "output_type": "stream",
     "text": [
      "[[45  1]\n",
      " [ 0 23]]\n"
     ]
    },
    {
     "data": {
      "text/plain": [
       "0.9855072463768116"
      ]
     },
     "execution_count": 181,
     "metadata": {},
     "output_type": "execute_result"
    }
   ],
   "source": [
    "print (confusion_matrix(y_ts,y_pr_ml_kn_un_adj))\n",
    "accuracy_score(y_ts,y_pr_ml_kn_un_adj)"
   ]
  },
  {
   "cell_type": "code",
   "execution_count": 182,
   "id": "f2e550c3",
   "metadata": {},
   "outputs": [
    {
     "data": {
      "text/plain": [
       "LogisticRegression()"
      ]
     },
     "execution_count": 182,
     "metadata": {},
     "output_type": "execute_result"
    }
   ],
   "source": [
    "ml_kn_sc_adj = LogisticRegression()\n",
    "ml_kn_sc_adj.fit(x_tr_sc_adj,y_tr.values.ravel())"
   ]
  },
  {
   "cell_type": "code",
   "execution_count": 183,
   "id": "8006c0c9",
   "metadata": {},
   "outputs": [],
   "source": [
    "y_pr_ml_kn_sc_adj = ml_kn_sc_adj.predict(x_ts_adj)"
   ]
  },
  {
   "cell_type": "code",
   "execution_count": 184,
   "id": "3f9466fe",
   "metadata": {},
   "outputs": [
    {
     "name": "stdout",
     "output_type": "stream",
     "text": [
      "[[ 0 46]\n",
      " [ 0 23]]\n"
     ]
    },
    {
     "data": {
      "text/plain": [
       "0.3333333333333333"
      ]
     },
     "execution_count": 184,
     "metadata": {},
     "output_type": "execute_result"
    }
   ],
   "source": [
    "print (confusion_matrix(y_ts,y_pr_ml_kn_sc_adj))\n",
    "accuracy_score(y_ts,y_pr_ml_kn_sc_adj)"
   ]
  },
  {
   "cell_type": "code",
   "execution_count": 186,
   "id": "f4708459",
   "metadata": {},
   "outputs": [],
   "source": [
    "models_summary = models_summary.append({'Model':'KNN','Type':'Adjusted','Scaled':'No','Score':accuracy_score(y_ts,y_pr_ml_kn_sc_adj)},ignore_index=True)"
   ]
  },
  {
   "cell_type": "code",
   "execution_count": 187,
   "id": "b6b45562",
   "metadata": {},
   "outputs": [],
   "source": [
    "models_summary = models_summary.append({'Model':'KNN','Type':'Adjusted','Scaled':'Yes','Score':accuracy_score(y_ts,y_pr_ml_kn_sc_adj)},ignore_index=True)"
   ]
  },
  {
   "cell_type": "markdown",
   "id": "a6d7ab33",
   "metadata": {},
   "source": [
    "## SVM "
   ]
  },
  {
   "cell_type": "markdown",
   "id": "20312e37",
   "metadata": {},
   "source": [
    "### rbf"
   ]
  },
  {
   "cell_type": "markdown",
   "id": "b3c060c5",
   "metadata": {},
   "source": [
    "#### Unscaled"
   ]
  },
  {
   "cell_type": "code",
   "execution_count": 188,
   "id": "fdce4d06",
   "metadata": {},
   "outputs": [
    {
     "data": {
      "text/plain": [
       "SVC()"
      ]
     },
     "execution_count": 188,
     "metadata": {},
     "output_type": "execute_result"
    }
   ],
   "source": [
    "ml_svc_un = SVC(kernel='rbf')\n",
    "ml_svc_un.fit(x_tr,y_tr.values.ravel())"
   ]
  },
  {
   "cell_type": "code",
   "execution_count": 189,
   "id": "ac3268ce",
   "metadata": {},
   "outputs": [],
   "source": [
    "y_pr_ml_svc_un = ml_svc_un.predict(x_ts)"
   ]
  },
  {
   "cell_type": "code",
   "execution_count": 190,
   "id": "107ef5b4",
   "metadata": {},
   "outputs": [
    {
     "data": {
      "text/plain": [
       "array([[46,  0],\n",
       "       [23,  0]], dtype=int64)"
      ]
     },
     "execution_count": 190,
     "metadata": {},
     "output_type": "execute_result"
    }
   ],
   "source": [
    "confusion_matrix(y_ts,y_pr_ml_svc_un)"
   ]
  },
  {
   "cell_type": "code",
   "execution_count": 191,
   "id": "c62959f7",
   "metadata": {},
   "outputs": [
    {
     "data": {
      "text/plain": [
       "0.6666666666666666"
      ]
     },
     "execution_count": 191,
     "metadata": {},
     "output_type": "execute_result"
    }
   ],
   "source": [
    "accuracy_score(y_ts,y_pr_ml_svc_un)"
   ]
  },
  {
   "cell_type": "code",
   "execution_count": 192,
   "id": "8a20db95",
   "metadata": {},
   "outputs": [],
   "source": [
    "models_summary = models_summary.append({'Model':'SVC','Type':'rbf','Scaled':'No','Score':accuracy_score(y_ts,y_pr_ml_svc_un)},ignore_index=True)"
   ]
  },
  {
   "cell_type": "markdown",
   "id": "53df34d3",
   "metadata": {},
   "source": [
    "#### Scaled"
   ]
  },
  {
   "cell_type": "code",
   "execution_count": 193,
   "id": "d39faff4",
   "metadata": {},
   "outputs": [
    {
     "data": {
      "text/plain": [
       "SVC()"
      ]
     },
     "execution_count": 193,
     "metadata": {},
     "output_type": "execute_result"
    }
   ],
   "source": [
    "ml_svc_sc = SVC(kernel='rbf')\n",
    "ml_svc_sc.fit(x_tr_sc,y_tr.values.ravel())"
   ]
  },
  {
   "cell_type": "code",
   "execution_count": 194,
   "id": "50c085d6",
   "metadata": {},
   "outputs": [],
   "source": [
    "y_pr_ml_svc_sc = ml_svc_sc.predict(x_ts_sc)"
   ]
  },
  {
   "cell_type": "code",
   "execution_count": 195,
   "id": "d9072bc6",
   "metadata": {},
   "outputs": [
    {
     "data": {
      "text/plain": [
       "array([[44,  2],\n",
       "       [ 0, 23]], dtype=int64)"
      ]
     },
     "execution_count": 195,
     "metadata": {},
     "output_type": "execute_result"
    }
   ],
   "source": [
    "confusion_matrix(y_ts,y_pr_ml_svc_sc)"
   ]
  },
  {
   "cell_type": "code",
   "execution_count": 196,
   "id": "3f26bc4d",
   "metadata": {},
   "outputs": [
    {
     "data": {
      "text/plain": [
       "0.9710144927536232"
      ]
     },
     "execution_count": 196,
     "metadata": {},
     "output_type": "execute_result"
    }
   ],
   "source": [
    "accuracy_score(y_ts,y_pr_ml_svc_sc)"
   ]
  },
  {
   "cell_type": "code",
   "execution_count": 197,
   "id": "f8d6237b",
   "metadata": {},
   "outputs": [],
   "source": [
    "models_summary = models_summary.append({'Model':'SVC','Type':'rbf','Scaled':'Yes','Score':accuracy_score(y_ts,y_pr_ml_svc_sc)},ignore_index=True)"
   ]
  },
  {
   "cell_type": "markdown",
   "id": "f42fab12",
   "metadata": {},
   "source": [
    "### Sigmoid"
   ]
  },
  {
   "cell_type": "markdown",
   "id": "d7b0042e",
   "metadata": {},
   "source": [
    "#### Unscaled"
   ]
  },
  {
   "cell_type": "code",
   "execution_count": 198,
   "id": "b4960b71",
   "metadata": {},
   "outputs": [
    {
     "data": {
      "text/plain": [
       "SVC(kernel='sigmoid')"
      ]
     },
     "execution_count": 198,
     "metadata": {},
     "output_type": "execute_result"
    }
   ],
   "source": [
    "ml_svc_un = SVC(kernel='sigmoid')\n",
    "ml_svc_un.fit(x_tr,y_tr.values.ravel())"
   ]
  },
  {
   "cell_type": "code",
   "execution_count": 199,
   "id": "4cadaffb",
   "metadata": {},
   "outputs": [],
   "source": [
    "y_pr_ml_svc_un = ml_svc_un.predict(x_ts)"
   ]
  },
  {
   "cell_type": "code",
   "execution_count": 200,
   "id": "6a722a2c",
   "metadata": {},
   "outputs": [
    {
     "data": {
      "text/plain": [
       "array([[43,  3],\n",
       "       [22,  1]], dtype=int64)"
      ]
     },
     "execution_count": 200,
     "metadata": {},
     "output_type": "execute_result"
    }
   ],
   "source": [
    "confusion_matrix(y_ts,y_pr_ml_svc_un)"
   ]
  },
  {
   "cell_type": "code",
   "execution_count": 201,
   "id": "4571772d",
   "metadata": {},
   "outputs": [
    {
     "data": {
      "text/plain": [
       "0.6376811594202898"
      ]
     },
     "execution_count": 201,
     "metadata": {},
     "output_type": "execute_result"
    }
   ],
   "source": [
    "accuracy_score(y_ts,y_pr_ml_svc_un)"
   ]
  },
  {
   "cell_type": "code",
   "execution_count": 202,
   "id": "873d595d",
   "metadata": {},
   "outputs": [],
   "source": [
    "models_summary = models_summary.append({'Model':'SVC','Type':'sigmoid','Scaled':'No','Score':accuracy_score(y_ts,y_pr_ml_svc_un)},ignore_index=True)"
   ]
  },
  {
   "cell_type": "markdown",
   "id": "8a111ed8",
   "metadata": {},
   "source": [
    "#### Scaled"
   ]
  },
  {
   "cell_type": "code",
   "execution_count": 203,
   "id": "e1b70d5d",
   "metadata": {},
   "outputs": [
    {
     "data": {
      "text/plain": [
       "SVC(kernel='sigmoid')"
      ]
     },
     "execution_count": 203,
     "metadata": {},
     "output_type": "execute_result"
    }
   ],
   "source": [
    "ml_svc_sc = SVC(kernel='sigmoid')\n",
    "ml_svc_sc.fit(x_tr_sc,y_tr.values.ravel())"
   ]
  },
  {
   "cell_type": "code",
   "execution_count": 204,
   "id": "d9843d0e",
   "metadata": {},
   "outputs": [],
   "source": [
    "y_pr_ml_svc_sc = ml_svc_sc.predict(x_ts_sc)"
   ]
  },
  {
   "cell_type": "code",
   "execution_count": 205,
   "id": "4778275a",
   "metadata": {},
   "outputs": [
    {
     "data": {
      "text/plain": [
       "array([[43,  3],\n",
       "       [ 0, 23]], dtype=int64)"
      ]
     },
     "execution_count": 205,
     "metadata": {},
     "output_type": "execute_result"
    }
   ],
   "source": [
    "confusion_matrix(y_ts,y_pr_ml_svc_sc)"
   ]
  },
  {
   "cell_type": "code",
   "execution_count": 206,
   "id": "624f5dfc",
   "metadata": {},
   "outputs": [
    {
     "data": {
      "text/plain": [
       "0.9565217391304348"
      ]
     },
     "execution_count": 206,
     "metadata": {},
     "output_type": "execute_result"
    }
   ],
   "source": [
    "accuracy_score(y_ts,y_pr_ml_svc_sc)"
   ]
  },
  {
   "cell_type": "code",
   "execution_count": 207,
   "id": "889ba3cd",
   "metadata": {},
   "outputs": [],
   "source": [
    "models_summary = models_summary.append({'Model':'SVC','Type':'sigmoid','Scaled':'Yes','Score':accuracy_score(y_ts,y_pr_ml_svc_sc)},ignore_index=True)"
   ]
  },
  {
   "cell_type": "markdown",
   "id": "a87c5e5e",
   "metadata": {},
   "source": [
    "### Poly"
   ]
  },
  {
   "cell_type": "markdown",
   "id": "44216c53",
   "metadata": {},
   "source": [
    "#### Unscaled"
   ]
  },
  {
   "cell_type": "code",
   "execution_count": 208,
   "id": "2a02dbd5",
   "metadata": {},
   "outputs": [
    {
     "data": {
      "text/plain": [
       "SVC(degree=5, kernel='poly')"
      ]
     },
     "execution_count": 208,
     "metadata": {},
     "output_type": "execute_result"
    }
   ],
   "source": [
    "ml_svc_un = SVC(kernel='poly',degree=5)\n",
    "ml_svc_un.fit(x_tr,y_tr.values.ravel())"
   ]
  },
  {
   "cell_type": "code",
   "execution_count": 209,
   "id": "ff07cca8",
   "metadata": {},
   "outputs": [],
   "source": [
    "y_pr_ml_svc_un = ml_svc_un.predict(x_ts)"
   ]
  },
  {
   "cell_type": "code",
   "execution_count": 210,
   "id": "1f4ab874",
   "metadata": {},
   "outputs": [
    {
     "data": {
      "text/plain": [
       "array([[46,  0],\n",
       "       [23,  0]], dtype=int64)"
      ]
     },
     "execution_count": 210,
     "metadata": {},
     "output_type": "execute_result"
    }
   ],
   "source": [
    "confusion_matrix(y_ts,y_pr_ml_svc_un)"
   ]
  },
  {
   "cell_type": "code",
   "execution_count": 211,
   "id": "76af9e9d",
   "metadata": {},
   "outputs": [
    {
     "data": {
      "text/plain": [
       "0.6666666666666666"
      ]
     },
     "execution_count": 211,
     "metadata": {},
     "output_type": "execute_result"
    }
   ],
   "source": [
    "accuracy_score(y_ts,y_pr_ml_svc_un)"
   ]
  },
  {
   "cell_type": "code",
   "execution_count": 212,
   "id": "8256d2b9",
   "metadata": {},
   "outputs": [],
   "source": [
    "models_summary = models_summary.append({'Model':'SVC','Type':'poly','Scaled':'No','Score':accuracy_score(y_ts,y_pr_ml_svc_un)},ignore_index=True)"
   ]
  },
  {
   "cell_type": "markdown",
   "id": "3be4ca58",
   "metadata": {},
   "source": [
    "#### Scaled"
   ]
  },
  {
   "cell_type": "code",
   "execution_count": 213,
   "id": "c033dedd",
   "metadata": {},
   "outputs": [
    {
     "data": {
      "text/plain": [
       "SVC(kernel='poly')"
      ]
     },
     "execution_count": 213,
     "metadata": {},
     "output_type": "execute_result"
    }
   ],
   "source": [
    "ml_svc_sc = SVC(kernel='poly', degree=3)\n",
    "ml_svc_sc.fit(x_tr_sc,y_tr.values.ravel())"
   ]
  },
  {
   "cell_type": "code",
   "execution_count": 214,
   "id": "46433f4e",
   "metadata": {},
   "outputs": [],
   "source": [
    "y_pr_ml_svc_sc = ml_svc_sc.predict(x_ts_sc)"
   ]
  },
  {
   "cell_type": "code",
   "execution_count": 215,
   "id": "2abe4706",
   "metadata": {},
   "outputs": [
    {
     "data": {
      "text/plain": [
       "array([[45,  1],\n",
       "       [ 1, 22]], dtype=int64)"
      ]
     },
     "execution_count": 215,
     "metadata": {},
     "output_type": "execute_result"
    }
   ],
   "source": [
    "confusion_matrix(y_ts,y_pr_ml_svc_sc)"
   ]
  },
  {
   "cell_type": "code",
   "execution_count": 216,
   "id": "96ec4ac1",
   "metadata": {},
   "outputs": [
    {
     "data": {
      "text/plain": [
       "0.9710144927536232"
      ]
     },
     "execution_count": 216,
     "metadata": {},
     "output_type": "execute_result"
    }
   ],
   "source": [
    "accuracy_score(y_ts,y_pr_ml_svc_sc)"
   ]
  },
  {
   "cell_type": "code",
   "execution_count": 217,
   "id": "d3ff90c4",
   "metadata": {},
   "outputs": [],
   "source": [
    "models_summary = models_summary.append({'Model':'SVC','Type':'poly','Scaled':'Yes','Score':accuracy_score(y_ts,y_pr_ml_svc_sc)},ignore_index=True)"
   ]
  },
  {
   "cell_type": "markdown",
   "id": "8aa24af5",
   "metadata": {},
   "source": [
    "## Decision tree"
   ]
  },
  {
   "cell_type": "markdown",
   "id": "2efe923b",
   "metadata": {},
   "source": [
    "### Unscaled"
   ]
  },
  {
   "cell_type": "code",
   "execution_count": 218,
   "id": "dfb0012f",
   "metadata": {},
   "outputs": [
    {
     "data": {
      "text/plain": [
       "DecisionTreeClassifier()"
      ]
     },
     "execution_count": 218,
     "metadata": {},
     "output_type": "execute_result"
    }
   ],
   "source": [
    "ml_dt_un = DecisionTreeClassifier()\n",
    "ml_dt_un.fit(x_tr,y_tr)"
   ]
  },
  {
   "cell_type": "code",
   "execution_count": 219,
   "id": "46610594",
   "metadata": {},
   "outputs": [],
   "source": [
    "y_pr_ml_dt_un = ml_dt_un.predict(x_ts)"
   ]
  },
  {
   "cell_type": "code",
   "execution_count": 220,
   "id": "09274d23",
   "metadata": {},
   "outputs": [
    {
     "data": {
      "text/plain": [
       "array([[45,  1],\n",
       "       [ 2, 21]], dtype=int64)"
      ]
     },
     "execution_count": 220,
     "metadata": {},
     "output_type": "execute_result"
    }
   ],
   "source": [
    "confusion_matrix(y_ts,y_pr_ml_dt_un)"
   ]
  },
  {
   "cell_type": "code",
   "execution_count": 221,
   "id": "c6b8aa89",
   "metadata": {
    "scrolled": true
   },
   "outputs": [
    {
     "data": {
      "text/plain": [
       "0.9565217391304348"
      ]
     },
     "execution_count": 221,
     "metadata": {},
     "output_type": "execute_result"
    }
   ],
   "source": [
    "accuracy_score(y_ts,y_pr_ml_dt_un)"
   ]
  },
  {
   "cell_type": "code",
   "execution_count": 222,
   "id": "3e993222",
   "metadata": {},
   "outputs": [],
   "source": [
    "models_summary = models_summary.append({'Model':'DecisionTree','Type':'General','Scaled':'No','Score':accuracy_score(y_ts,y_pr_ml_dt_un)},ignore_index=True)"
   ]
  },
  {
   "cell_type": "markdown",
   "id": "13487f68",
   "metadata": {},
   "source": [
    "### Scaled"
   ]
  },
  {
   "cell_type": "code",
   "execution_count": 223,
   "id": "500cee42",
   "metadata": {},
   "outputs": [
    {
     "data": {
      "text/plain": [
       "DecisionTreeClassifier()"
      ]
     },
     "execution_count": 223,
     "metadata": {},
     "output_type": "execute_result"
    }
   ],
   "source": [
    "ml_dt_sc = DecisionTreeClassifier()\n",
    "ml_dt_sc.fit(x_tr_sc,y_tr)"
   ]
  },
  {
   "cell_type": "code",
   "execution_count": 224,
   "id": "b30880cb",
   "metadata": {},
   "outputs": [],
   "source": [
    "y_pr_ml_dt_sc = ml_dt_sc.predict(x_ts_sc)"
   ]
  },
  {
   "cell_type": "code",
   "execution_count": 225,
   "id": "d2107dce",
   "metadata": {},
   "outputs": [
    {
     "data": {
      "text/plain": [
       "array([[45,  1],\n",
       "       [ 1, 22]], dtype=int64)"
      ]
     },
     "execution_count": 225,
     "metadata": {},
     "output_type": "execute_result"
    }
   ],
   "source": [
    "confusion_matrix(y_ts,y_pr_ml_dt_sc)"
   ]
  },
  {
   "cell_type": "code",
   "execution_count": 226,
   "id": "9073a2d1",
   "metadata": {
    "scrolled": true
   },
   "outputs": [
    {
     "data": {
      "text/plain": [
       "0.9710144927536232"
      ]
     },
     "execution_count": 226,
     "metadata": {},
     "output_type": "execute_result"
    }
   ],
   "source": [
    "accuracy_score(y_ts,y_pr_ml_dt_sc)"
   ]
  },
  {
   "cell_type": "code",
   "execution_count": 227,
   "id": "6afb43c7",
   "metadata": {},
   "outputs": [],
   "source": [
    "models_summary = models_summary.append({'Model':'DecisionTree','Type':'General','Scaled':'Yes','Score':accuracy_score(y_ts,y_pr_ml_dt_sc)},ignore_index=True)"
   ]
  },
  {
   "cell_type": "markdown",
   "id": "79f82dc1",
   "metadata": {},
   "source": [
    "### Adjusted columns"
   ]
  },
  {
   "cell_type": "code",
   "execution_count": 228,
   "id": "cb5d0f44",
   "metadata": {},
   "outputs": [
    {
     "data": {
      "text/plain": [
       "DecisionTreeClassifier()"
      ]
     },
     "execution_count": 228,
     "metadata": {},
     "output_type": "execute_result"
    }
   ],
   "source": [
    "ml_dt_sc_adj = DecisionTreeClassifier()\n",
    "ml_dt_sc.fit(x_tr_sc_adj,y_tr)"
   ]
  },
  {
   "cell_type": "code",
   "execution_count": 229,
   "id": "4c3cabe1",
   "metadata": {},
   "outputs": [],
   "source": [
    "y_pr_ml_dt_sc_adj = ml_dt_sc.predict(x_ts_sc_adj)"
   ]
  },
  {
   "cell_type": "code",
   "execution_count": 230,
   "id": "192765bf",
   "metadata": {},
   "outputs": [
    {
     "data": {
      "text/plain": [
       "array([[44,  2],\n",
       "       [ 0, 23]], dtype=int64)"
      ]
     },
     "execution_count": 230,
     "metadata": {},
     "output_type": "execute_result"
    }
   ],
   "source": [
    "confusion_matrix(y_ts,y_pr_ml_dt_sc_adj)"
   ]
  },
  {
   "cell_type": "code",
   "execution_count": 231,
   "id": "34653e94",
   "metadata": {},
   "outputs": [
    {
     "data": {
      "text/plain": [
       "0.9710144927536232"
      ]
     },
     "execution_count": 231,
     "metadata": {},
     "output_type": "execute_result"
    }
   ],
   "source": [
    "accuracy_score(y_ts,y_pr_ml_dt_sc_adj)"
   ]
  },
  {
   "cell_type": "code",
   "execution_count": 232,
   "id": "28485037",
   "metadata": {},
   "outputs": [],
   "source": [
    "models_summary = models_summary.append({'Model':'DecisionTree','Type':'Adjusted','Scaled':'Yes','Score':accuracy_score(y_ts,y_pr_ml_dt_sc_adj)},ignore_index=True)"
   ]
  },
  {
   "cell_type": "markdown",
   "id": "ad836485",
   "metadata": {},
   "source": [
    "## Random forest"
   ]
  },
  {
   "cell_type": "markdown",
   "id": "11a4b6ab",
   "metadata": {},
   "source": [
    "### Unscaled"
   ]
  },
  {
   "cell_type": "code",
   "execution_count": 233,
   "id": "e156d41e",
   "metadata": {},
   "outputs": [
    {
     "data": {
      "text/plain": [
       "RandomForestClassifier()"
      ]
     },
     "execution_count": 233,
     "metadata": {},
     "output_type": "execute_result"
    }
   ],
   "source": [
    "ml_rf_un = RandomForestClassifier()\n",
    "ml_rf_un.fit(x_tr,y_tr.values.ravel())"
   ]
  },
  {
   "cell_type": "code",
   "execution_count": 234,
   "id": "72c938b7",
   "metadata": {},
   "outputs": [],
   "source": [
    "y_pr_ml_rf_un = ml_rf_un.predict(x_ts)"
   ]
  },
  {
   "cell_type": "code",
   "execution_count": 235,
   "id": "107ee859",
   "metadata": {},
   "outputs": [
    {
     "data": {
      "text/plain": [
       "array([[45,  1],\n",
       "       [ 0, 23]], dtype=int64)"
      ]
     },
     "execution_count": 235,
     "metadata": {},
     "output_type": "execute_result"
    }
   ],
   "source": [
    "confusion_matrix(y_ts,y_pr_ml_rf_un)"
   ]
  },
  {
   "cell_type": "code",
   "execution_count": 236,
   "id": "af7925f0",
   "metadata": {
    "scrolled": true
   },
   "outputs": [
    {
     "data": {
      "text/plain": [
       "0.9855072463768116"
      ]
     },
     "execution_count": 236,
     "metadata": {},
     "output_type": "execute_result"
    }
   ],
   "source": [
    "accuracy_score(y_ts,y_pr_ml_rf_un)"
   ]
  },
  {
   "cell_type": "code",
   "execution_count": 237,
   "id": "7a26db2c",
   "metadata": {},
   "outputs": [],
   "source": [
    "models_summary = models_summary.append({'Model':'RandomForest','Type':'General','Scaled':'No','Score':accuracy_score(y_ts,y_pr_ml_rf_un)},ignore_index=True)"
   ]
  },
  {
   "cell_type": "markdown",
   "id": "0c0be386",
   "metadata": {},
   "source": [
    "### Scaled"
   ]
  },
  {
   "cell_type": "code",
   "execution_count": 238,
   "id": "d2dccdc6",
   "metadata": {},
   "outputs": [
    {
     "data": {
      "text/plain": [
       "RandomForestClassifier()"
      ]
     },
     "execution_count": 238,
     "metadata": {},
     "output_type": "execute_result"
    }
   ],
   "source": [
    "ml_rf_sc = RandomForestClassifier()\n",
    "ml_rf_sc.fit(x_tr_sc,y_tr.values.ravel())"
   ]
  },
  {
   "cell_type": "code",
   "execution_count": 239,
   "id": "9ed0b0a6",
   "metadata": {},
   "outputs": [],
   "source": [
    "y_pr_ml_rf_sc = ml_rf_sc.predict(x_ts_sc)"
   ]
  },
  {
   "cell_type": "code",
   "execution_count": 240,
   "id": "9d0a3da8",
   "metadata": {},
   "outputs": [
    {
     "data": {
      "text/plain": [
       "array([[45,  1],\n",
       "       [ 0, 23]], dtype=int64)"
      ]
     },
     "execution_count": 240,
     "metadata": {},
     "output_type": "execute_result"
    }
   ],
   "source": [
    "confusion_matrix(y_ts,y_pr_ml_rf_sc)"
   ]
  },
  {
   "cell_type": "code",
   "execution_count": 241,
   "id": "23630688",
   "metadata": {
    "scrolled": true
   },
   "outputs": [
    {
     "data": {
      "text/plain": [
       "0.9855072463768116"
      ]
     },
     "execution_count": 241,
     "metadata": {},
     "output_type": "execute_result"
    }
   ],
   "source": [
    "accuracy_score(y_ts,y_pr_ml_rf_sc)"
   ]
  },
  {
   "cell_type": "code",
   "execution_count": 242,
   "id": "a0a90f65",
   "metadata": {},
   "outputs": [],
   "source": [
    "models_summary = models_summary.append({'Model':'RandomForest','Type':'General','Scaled':'Yes','Score':accuracy_score(y_ts,y_pr_ml_rf_sc)},ignore_index=True)"
   ]
  },
  {
   "cell_type": "markdown",
   "id": "99cf05c5",
   "metadata": {},
   "source": [
    "### Adjusted columns"
   ]
  },
  {
   "cell_type": "code",
   "execution_count": 243,
   "id": "9c7478cd",
   "metadata": {},
   "outputs": [
    {
     "data": {
      "text/plain": [
       "RandomForestClassifier()"
      ]
     },
     "execution_count": 243,
     "metadata": {},
     "output_type": "execute_result"
    }
   ],
   "source": [
    "ml_rf_sc_adj = RandomForestClassifier()\n",
    "ml_rf_sc_adj.fit(x_tr_sc_adj,y_tr.values.ravel())"
   ]
  },
  {
   "cell_type": "code",
   "execution_count": 244,
   "id": "e9bcd9b7",
   "metadata": {},
   "outputs": [],
   "source": [
    "y_pr_ml_rf_sc_adj = ml_rf_sc_adj.predict(x_ts_sc_adj)"
   ]
  },
  {
   "cell_type": "code",
   "execution_count": 245,
   "id": "340ca1e6",
   "metadata": {},
   "outputs": [
    {
     "data": {
      "text/plain": [
       "array([[45,  1],\n",
       "       [ 0, 23]], dtype=int64)"
      ]
     },
     "execution_count": 245,
     "metadata": {},
     "output_type": "execute_result"
    }
   ],
   "source": [
    "confusion_matrix(y_ts,y_pr_ml_rf_sc_adj)"
   ]
  },
  {
   "cell_type": "code",
   "execution_count": 246,
   "id": "53dcfaf3",
   "metadata": {
    "scrolled": true
   },
   "outputs": [
    {
     "data": {
      "text/plain": [
       "0.9855072463768116"
      ]
     },
     "execution_count": 246,
     "metadata": {},
     "output_type": "execute_result"
    }
   ],
   "source": [
    "accuracy_score(y_ts,y_pr_ml_rf_sc_adj)"
   ]
  },
  {
   "cell_type": "code",
   "execution_count": 247,
   "id": "ba8cef1b",
   "metadata": {},
   "outputs": [],
   "source": [
    "models_summary = models_summary.append({'Model':'RandomForest','Type':'Adjusted','Scaled':'Yes','Score':accuracy_score(y_ts,y_pr_ml_rf_sc_adj)},ignore_index=True)"
   ]
  },
  {
   "cell_type": "markdown",
   "id": "d6ab96d3",
   "metadata": {},
   "source": [
    "## Naive "
   ]
  },
  {
   "cell_type": "markdown",
   "id": "2ef68af2",
   "metadata": {},
   "source": [
    "### Unscaled"
   ]
  },
  {
   "cell_type": "code",
   "execution_count": 248,
   "id": "f0cbc5b1",
   "metadata": {},
   "outputs": [
    {
     "data": {
      "text/plain": [
       "GaussianNB()"
      ]
     },
     "execution_count": 248,
     "metadata": {},
     "output_type": "execute_result"
    }
   ],
   "source": [
    "ml_nb_un = GaussianNB()\n",
    "ml_nb_un.fit(x_tr,y_tr.values.ravel())"
   ]
  },
  {
   "cell_type": "code",
   "execution_count": 249,
   "id": "27829eb1",
   "metadata": {},
   "outputs": [],
   "source": [
    "y_pr_ml_nb_un = ml_nb_un.predict(x_ts)"
   ]
  },
  {
   "cell_type": "code",
   "execution_count": 250,
   "id": "4753ed3e",
   "metadata": {},
   "outputs": [
    {
     "data": {
      "text/plain": [
       "array([[45,  1],\n",
       "       [ 5, 18]], dtype=int64)"
      ]
     },
     "execution_count": 250,
     "metadata": {},
     "output_type": "execute_result"
    }
   ],
   "source": [
    "confusion_matrix(y_ts,y_pr_ml_nb_un)"
   ]
  },
  {
   "cell_type": "code",
   "execution_count": 251,
   "id": "5a49c2d9",
   "metadata": {
    "scrolled": true
   },
   "outputs": [
    {
     "data": {
      "text/plain": [
       "0.9130434782608695"
      ]
     },
     "execution_count": 251,
     "metadata": {},
     "output_type": "execute_result"
    }
   ],
   "source": [
    "accuracy_score(y_ts,y_pr_ml_nb_un)"
   ]
  },
  {
   "cell_type": "code",
   "execution_count": 252,
   "id": "5b02752c",
   "metadata": {},
   "outputs": [],
   "source": [
    "models_summary = models_summary.append({'Model':'NaivBayes','Type':'General','Scaled':'No','Score':accuracy_score(y_ts,y_pr_ml_nb_un)},ignore_index=True)"
   ]
  },
  {
   "cell_type": "markdown",
   "id": "c67b3749",
   "metadata": {},
   "source": [
    "### Scaled"
   ]
  },
  {
   "cell_type": "code",
   "execution_count": 253,
   "id": "9d941f08",
   "metadata": {},
   "outputs": [
    {
     "data": {
      "text/plain": [
       "GaussianNB()"
      ]
     },
     "execution_count": 253,
     "metadata": {},
     "output_type": "execute_result"
    }
   ],
   "source": [
    "ml_nb_sc = GaussianNB()\n",
    "ml_nb_sc.fit(x_tr_sc,y_tr.values.ravel())"
   ]
  },
  {
   "cell_type": "code",
   "execution_count": 254,
   "id": "da89e4e8",
   "metadata": {},
   "outputs": [],
   "source": [
    "y_pr_ml_nb_sc = ml_nb_sc.predict(x_ts_sc)"
   ]
  },
  {
   "cell_type": "code",
   "execution_count": 255,
   "id": "eec9fb64",
   "metadata": {},
   "outputs": [
    {
     "data": {
      "text/plain": [
       "array([[43,  3],\n",
       "       [ 0, 23]], dtype=int64)"
      ]
     },
     "execution_count": 255,
     "metadata": {},
     "output_type": "execute_result"
    }
   ],
   "source": [
    "confusion_matrix(y_ts,y_pr_ml_nb_sc)"
   ]
  },
  {
   "cell_type": "code",
   "execution_count": 256,
   "id": "4a6c59ee",
   "metadata": {
    "scrolled": true
   },
   "outputs": [
    {
     "data": {
      "text/plain": [
       "0.9565217391304348"
      ]
     },
     "execution_count": 256,
     "metadata": {},
     "output_type": "execute_result"
    }
   ],
   "source": [
    "accuracy_score(y_ts,y_pr_ml_nb_sc)"
   ]
  },
  {
   "cell_type": "code",
   "execution_count": 257,
   "id": "fc399096",
   "metadata": {},
   "outputs": [],
   "source": [
    "models_summary = models_summary.append({'Model':'NaivBayes','Type':'General','Scaled':'Yes','Score':accuracy_score(y_ts,y_pr_ml_nb_sc)},ignore_index=True)"
   ]
  },
  {
   "cell_type": "markdown",
   "id": "15790aff",
   "metadata": {},
   "source": [
    "# Modelling conclusion"
   ]
  },
  {
   "cell_type": "code",
   "execution_count": 258,
   "id": "bcac7628",
   "metadata": {},
   "outputs": [
    {
     "data": {
      "text/html": [
       "<div>\n",
       "<style scoped>\n",
       "    .dataframe tbody tr th:only-of-type {\n",
       "        vertical-align: middle;\n",
       "    }\n",
       "\n",
       "    .dataframe tbody tr th {\n",
       "        vertical-align: top;\n",
       "    }\n",
       "\n",
       "    .dataframe thead th {\n",
       "        text-align: right;\n",
       "    }\n",
       "</style>\n",
       "<table border=\"1\" class=\"dataframe\">\n",
       "  <thead>\n",
       "    <tr style=\"text-align: right;\">\n",
       "      <th></th>\n",
       "      <th>Model</th>\n",
       "      <th>Type</th>\n",
       "      <th>Scaled</th>\n",
       "      <th>Score</th>\n",
       "    </tr>\n",
       "  </thead>\n",
       "  <tbody>\n",
       "    <tr>\n",
       "      <th>0</th>\n",
       "      <td>Log</td>\n",
       "      <td>General</td>\n",
       "      <td>No</td>\n",
       "      <td>0.666667</td>\n",
       "    </tr>\n",
       "    <tr>\n",
       "      <th>1</th>\n",
       "      <td>Log</td>\n",
       "      <td>General</td>\n",
       "      <td>Yes</td>\n",
       "      <td>0.985507</td>\n",
       "    </tr>\n",
       "    <tr>\n",
       "      <th>2</th>\n",
       "      <td>Log</td>\n",
       "      <td>Adjusted</td>\n",
       "      <td>No</td>\n",
       "      <td>0.985507</td>\n",
       "    </tr>\n",
       "    <tr>\n",
       "      <th>3</th>\n",
       "      <td>Log</td>\n",
       "      <td>Adjusted</td>\n",
       "      <td>Yes</td>\n",
       "      <td>0.333333</td>\n",
       "    </tr>\n",
       "    <tr>\n",
       "      <th>4</th>\n",
       "      <td>KNN</td>\n",
       "      <td>General</td>\n",
       "      <td>No</td>\n",
       "      <td>0.608696</td>\n",
       "    </tr>\n",
       "    <tr>\n",
       "      <th>5</th>\n",
       "      <td>KNN</td>\n",
       "      <td>General</td>\n",
       "      <td>Yes</td>\n",
       "      <td>0.985507</td>\n",
       "    </tr>\n",
       "    <tr>\n",
       "      <th>6</th>\n",
       "      <td>KNN</td>\n",
       "      <td>Adjusted</td>\n",
       "      <td>No</td>\n",
       "      <td>0.333333</td>\n",
       "    </tr>\n",
       "    <tr>\n",
       "      <th>7</th>\n",
       "      <td>KNN</td>\n",
       "      <td>Adjusted</td>\n",
       "      <td>Yes</td>\n",
       "      <td>0.333333</td>\n",
       "    </tr>\n",
       "    <tr>\n",
       "      <th>8</th>\n",
       "      <td>SVC</td>\n",
       "      <td>rbf</td>\n",
       "      <td>No</td>\n",
       "      <td>0.666667</td>\n",
       "    </tr>\n",
       "    <tr>\n",
       "      <th>9</th>\n",
       "      <td>SVC</td>\n",
       "      <td>rbf</td>\n",
       "      <td>Yes</td>\n",
       "      <td>0.971014</td>\n",
       "    </tr>\n",
       "    <tr>\n",
       "      <th>10</th>\n",
       "      <td>SVC</td>\n",
       "      <td>sigmoid</td>\n",
       "      <td>No</td>\n",
       "      <td>0.637681</td>\n",
       "    </tr>\n",
       "    <tr>\n",
       "      <th>11</th>\n",
       "      <td>SVC</td>\n",
       "      <td>sigmoid</td>\n",
       "      <td>Yes</td>\n",
       "      <td>0.956522</td>\n",
       "    </tr>\n",
       "    <tr>\n",
       "      <th>12</th>\n",
       "      <td>SVC</td>\n",
       "      <td>poly</td>\n",
       "      <td>No</td>\n",
       "      <td>0.666667</td>\n",
       "    </tr>\n",
       "    <tr>\n",
       "      <th>13</th>\n",
       "      <td>SVC</td>\n",
       "      <td>poly</td>\n",
       "      <td>Yes</td>\n",
       "      <td>0.971014</td>\n",
       "    </tr>\n",
       "    <tr>\n",
       "      <th>14</th>\n",
       "      <td>DecisionTree</td>\n",
       "      <td>General</td>\n",
       "      <td>No</td>\n",
       "      <td>0.956522</td>\n",
       "    </tr>\n",
       "    <tr>\n",
       "      <th>15</th>\n",
       "      <td>DecisionTree</td>\n",
       "      <td>General</td>\n",
       "      <td>Yes</td>\n",
       "      <td>0.971014</td>\n",
       "    </tr>\n",
       "    <tr>\n",
       "      <th>16</th>\n",
       "      <td>DecisionTree</td>\n",
       "      <td>Adjusted</td>\n",
       "      <td>Yes</td>\n",
       "      <td>0.971014</td>\n",
       "    </tr>\n",
       "    <tr>\n",
       "      <th>17</th>\n",
       "      <td>RandomForest</td>\n",
       "      <td>General</td>\n",
       "      <td>No</td>\n",
       "      <td>0.985507</td>\n",
       "    </tr>\n",
       "    <tr>\n",
       "      <th>18</th>\n",
       "      <td>RandomForest</td>\n",
       "      <td>General</td>\n",
       "      <td>Yes</td>\n",
       "      <td>0.985507</td>\n",
       "    </tr>\n",
       "    <tr>\n",
       "      <th>19</th>\n",
       "      <td>RandomForest</td>\n",
       "      <td>Adjusted</td>\n",
       "      <td>Yes</td>\n",
       "      <td>0.985507</td>\n",
       "    </tr>\n",
       "    <tr>\n",
       "      <th>20</th>\n",
       "      <td>NaivBayes</td>\n",
       "      <td>General</td>\n",
       "      <td>No</td>\n",
       "      <td>0.913043</td>\n",
       "    </tr>\n",
       "    <tr>\n",
       "      <th>21</th>\n",
       "      <td>NaivBayes</td>\n",
       "      <td>General</td>\n",
       "      <td>Yes</td>\n",
       "      <td>0.956522</td>\n",
       "    </tr>\n",
       "  </tbody>\n",
       "</table>\n",
       "</div>"
      ],
      "text/plain": [
       "           Model      Type Scaled     Score\n",
       "0            Log   General     No  0.666667\n",
       "1            Log   General    Yes  0.985507\n",
       "2            Log  Adjusted     No  0.985507\n",
       "3            Log  Adjusted    Yes  0.333333\n",
       "4            KNN   General     No  0.608696\n",
       "5            KNN   General    Yes  0.985507\n",
       "6            KNN  Adjusted     No  0.333333\n",
       "7            KNN  Adjusted    Yes  0.333333\n",
       "8            SVC       rbf     No  0.666667\n",
       "9            SVC       rbf    Yes  0.971014\n",
       "10           SVC   sigmoid     No  0.637681\n",
       "11           SVC   sigmoid    Yes  0.956522\n",
       "12           SVC      poly     No  0.666667\n",
       "13           SVC      poly    Yes  0.971014\n",
       "14  DecisionTree   General     No  0.956522\n",
       "15  DecisionTree   General    Yes  0.971014\n",
       "16  DecisionTree  Adjusted    Yes  0.971014\n",
       "17  RandomForest   General     No  0.985507\n",
       "18  RandomForest   General    Yes  0.985507\n",
       "19  RandomForest  Adjusted    Yes  0.985507\n",
       "20     NaivBayes   General     No  0.913043\n",
       "21     NaivBayes   General    Yes  0.956522"
      ]
     },
     "execution_count": 258,
     "metadata": {},
     "output_type": "execute_result"
    }
   ],
   "source": [
    "models_summary"
   ]
  },
  {
   "cell_type": "markdown",
   "id": "eabc64ab",
   "metadata": {},
   "source": [
    "# Data Insights"
   ]
  }
 ],
 "metadata": {
  "kernelspec": {
   "display_name": "Python 3 (ipykernel)",
   "language": "python",
   "name": "python3"
  },
  "language_info": {
   "codemirror_mode": {
    "name": "ipython",
    "version": 3
   },
   "file_extension": ".py",
   "mimetype": "text/x-python",
   "name": "python",
   "nbconvert_exporter": "python",
   "pygments_lexer": "ipython3",
   "version": "3.10.1"
  },
  "toc": {
   "base_numbering": 1,
   "nav_menu": {},
   "number_sections": true,
   "sideBar": true,
   "skip_h1_title": false,
   "title_cell": "Table of Contents",
   "title_sidebar": "Contents",
   "toc_cell": false,
   "toc_position": {
    "height": "calc(100% - 180px)",
    "left": "10px",
    "top": "150px",
    "width": "214px"
   },
   "toc_section_display": true,
   "toc_window_display": true
  },
  "varInspector": {
   "cols": {
    "lenName": 16,
    "lenType": 16,
    "lenVar": 40
   },
   "kernels_config": {
    "python": {
     "delete_cmd_postfix": "",
     "delete_cmd_prefix": "del ",
     "library": "var_list.py",
     "varRefreshCmd": "print(var_dic_list())"
    },
    "r": {
     "delete_cmd_postfix": ") ",
     "delete_cmd_prefix": "rm(",
     "library": "var_list.r",
     "varRefreshCmd": "cat(var_dic_list()) "
    }
   },
   "types_to_exclude": [
    "module",
    "function",
    "builtin_function_or_method",
    "instance",
    "_Feature"
   ],
   "window_display": false
  }
 },
 "nbformat": 4,
 "nbformat_minor": 5
}
